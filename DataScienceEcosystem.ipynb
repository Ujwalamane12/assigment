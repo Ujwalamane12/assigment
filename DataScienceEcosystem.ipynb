{
 "cells": [
  {
   "cell_type": "markdown",
   "id": "4897c21e",
   "metadata": {},
   "source": [
    "Data Science Tools and Ecosystem"
   ]
  },
  {
   "cell_type": "markdown",
   "id": "e770a076",
   "metadata": {},
   "source": [
    "In this notebook, Data Science Tools and Ecosystem are summarized and briefed"
   ]
  },
  {
   "cell_type": "markdown",
   "id": "8dae72f3",
   "metadata": {},
   "source": [
    "Some of the popular languages that Data Scientists use are:"
   ]
  },
  {
   "cell_type": "markdown",
   "id": "750f93a9",
   "metadata": {},
   "source": [
    "1. Python\n",
    "2. SQL\n",
    "3. R\n",
    "4. JavaScript\n",
    "5. Scala"
   ]
  },
  {
   "cell_type": "markdown",
   "id": "f284d1b5",
   "metadata": {},
   "source": [
    "Some of the commonly used libraries used by Data Scientists include:"
   ]
  },
  {
   "cell_type": "markdown",
   "id": "cf625f07",
   "metadata": {},
   "source": [
    "1. TensorFlow\n",
    "2. NumPy\n",
    "3. Pandas\n",
    "4. Kears\n",
    "5. Matplotlib"
   ]
  },
  {
   "cell_type": "markdown",
   "id": "81228d2b",
   "metadata": {},
   "source": [
    "|Data Science Tools|\n",
    "|--------|\n",
    "|Apache Spark|\n",
    "|IBM SPSS|\n",
    "|Julia|\n",
    "|Matlab|\n"
   ]
  },
  {
   "cell_type": "markdown",
   "id": "6bdc320b",
   "metadata": {},
   "source": [
    "### Below are a few examples of evaluating arithmetic expressions in Python"
   ]
  },
  {
   "cell_type": "code",
   "execution_count": 5,
   "id": "24114aae",
   "metadata": {},
   "outputs": [
    {
     "data": {
      "text/plain": [
       "17"
      ]
     },
     "execution_count": 5,
     "metadata": {},
     "output_type": "execute_result"
    }
   ],
   "source": [
    "(3*4)+5 #This a simple arithmetic expression to mutiply then add integers"
   ]
  },
  {
   "cell_type": "code",
   "execution_count": 7,
   "id": "a9e98bdb",
   "metadata": {},
   "outputs": [
    {
     "data": {
      "text/plain": [
       "3.3333333333333335"
      ]
     },
     "execution_count": 7,
     "metadata": {},
     "output_type": "execute_result"
    }
   ],
   "source": [
    "(200/60) # This will convert 200 minutes to hours by diving by 60"
   ]
  },
  {
   "cell_type": "markdown",
   "id": "7cdf651f",
   "metadata": {},
   "source": [
    "Objectives:"
   ]
  },
  {
   "cell_type": "markdown",
   "id": "19f3b5be",
   "metadata": {},
   "source": [
    "- list of popular languages\n",
    "- list of commonly used libraries\n",
    "- list of data science tool\n",
    "- arithmetic expression"
   ]
  },
  {
   "cell_type": "markdown",
   "id": "bdfe7d32",
   "metadata": {},
   "source": [
    "## Author\n",
    "Ujwala Mane"
   ]
  },
  {
   "cell_type": "code",
   "execution_count": null,
   "id": "30c4b924",
   "metadata": {},
   "outputs": [],
   "source": []
  }
 ],
 "metadata": {
  "kernelspec": {
   "display_name": "Python 3 (ipykernel)",
   "language": "python",
   "name": "python3"
  },
  "language_info": {
   "codemirror_mode": {
    "name": "ipython",
    "version": 3
   },
   "file_extension": ".py",
   "mimetype": "text/x-python",
   "name": "python",
   "nbconvert_exporter": "python",
   "pygments_lexer": "ipython3",
   "version": "3.9.13"
  }
 },
 "nbformat": 4,
 "nbformat_minor": 5
}
